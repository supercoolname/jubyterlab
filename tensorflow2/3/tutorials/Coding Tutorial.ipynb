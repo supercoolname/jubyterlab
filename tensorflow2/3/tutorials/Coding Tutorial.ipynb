{
 "cells": [
  {
   "cell_type": "code",
   "execution_count": 2,
   "metadata": {
    "scrolled": true
   },
   "outputs": [
    {
     "name": "stdout",
     "output_type": "stream",
     "text": [
      "2.2.0\n"
     ]
    }
   ],
   "source": [
    "import tensorflow as tf\n",
    "print(tf.__version__)"
   ]
  },
  {
   "cell_type": "markdown",
   "metadata": {},
   "source": [
    "# Validation, regularisation and callbacks"
   ]
  },
  {
   "cell_type": "markdown",
   "metadata": {},
   "source": [
    " ## Coding tutorials\n",
    " #### [1. Validation sets](#coding_tutorial_1)\n",
    " #### [2. Model regularisation](#coding_tutorial_2)\n",
    " #### [3. Introduction to callbacks](#coding_tutorial_3)\n",
    " #### [4. Early stopping / patience](#coding_tutorial_4)"
   ]
  },
  {
   "cell_type": "markdown",
   "metadata": {},
   "source": [
    "***\n",
    "<a id=\"coding_tutorial_1\"></a>\n",
    "## Validation sets"
   ]
  },
  {
   "cell_type": "markdown",
   "metadata": {},
   "source": [
    "#### Load the data"
   ]
  },
  {
   "cell_type": "code",
   "execution_count": 4,
   "metadata": {},
   "outputs": [
    {
     "name": "stdout",
     "output_type": "stream",
     "text": [
      ".. _diabetes_dataset:\n",
      "\n",
      "Diabetes dataset\n",
      "----------------\n",
      "\n",
      "Ten baseline variables, age, sex, body mass index, average blood\n",
      "pressure, and six blood serum measurements were obtained for each of n =\n",
      "442 diabetes patients, as well as the response of interest, a\n",
      "quantitative measure of disease progression one year after baseline.\n",
      "\n",
      "**Data Set Characteristics:**\n",
      "\n",
      "  :Number of Instances: 442\n",
      "\n",
      "  :Number of Attributes: First 10 columns are numeric predictive values\n",
      "\n",
      "  :Target: Column 11 is a quantitative measure of disease progression one year after baseline\n",
      "\n",
      "  :Attribute Information:\n",
      "      - age     age in years\n",
      "      - sex\n",
      "      - bmi     body mass index\n",
      "      - bp      average blood pressure\n",
      "      - s1      tc, T-Cells (a type of white blood cells)\n",
      "      - s2      ldl, low-density lipoproteins\n",
      "      - s3      hdl, high-density lipoproteins\n",
      "      - s4      tch, thyroid stimulating hormone\n",
      "      - s5      ltg, lamotrigine\n",
      "      - s6      glu, blood sugar level\n",
      "\n",
      "Note: Each of these 10 feature variables have been mean centered and scaled by the standard deviation times `n_samples` (i.e. the sum of squares of each column totals 1).\n",
      "\n",
      "Source URL:\n",
      "https://www4.stat.ncsu.edu/~boos/var.select/diabetes.html\n",
      "\n",
      "For more information see:\n",
      "Bradley Efron, Trevor Hastie, Iain Johnstone and Robert Tibshirani (2004) \"Least Angle Regression,\" Annals of Statistics (with discussion), 407-499.\n",
      "(https://web.stanford.edu/~hastie/Papers/LARS/LeastAngle_2002.pdf)\n"
     ]
    }
   ],
   "source": [
    "# Load the diabetes dataset\n",
    "\n",
    "from sklearn.datasets import load_diabetes\n",
    "\n",
    "diabetes_dataset = load_diabetes()\n",
    "print(diabetes_dataset[\"DESCR\"])"
   ]
  },
  {
   "cell_type": "code",
   "execution_count": 6,
   "metadata": {},
   "outputs": [
    {
     "name": "stdout",
     "output_type": "stream",
     "text": [
      "dict_keys(['data', 'target', 'frame', 'DESCR', 'feature_names', 'data_filename', 'target_filename'])\n"
     ]
    }
   ],
   "source": [
    "# Save the input and target variables\n",
    "print(diabetes_dataset.keys())\n",
    "data = diabetes_dataset['data']\n",
    "targets = diabetes_dataset['target']"
   ]
  },
  {
   "cell_type": "code",
   "execution_count": 12,
   "metadata": {},
   "outputs": [
    {
     "data": {
      "text/plain": [
       "array([-1.47194752e-02, -1.00165882e+00, -1.44579915e-01,  6.99512942e-01,\n",
       "       -2.22496178e-01, -7.15965848e-01, -1.83538046e-01, -1.15749134e+00,\n",
       "       -5.47147277e-01,  2.05006151e+00, -6.64021672e-01, -1.07957508e+00,\n",
       "        3.48889755e-01,  4.26806019e-01, -4.43258925e-01,  2.45001404e-01,\n",
       "        1.80071184e-01, -1.05621783e-01, -7.15965848e-01,  2.06043272e-01,\n",
       "       -1.09256112e+00, -1.33929596e+00, -1.09256112e+00,  1.20596866e+00,\n",
       "        4.13819975e-01,  6.47568766e-01, -1.96524090e-01, -8.71798376e-01,\n",
       "       -2.74440354e-01,  1.69943833e+00, -3.00412442e-01, -1.20943552e+00,\n",
       "        2.45262887e+00, -8.45826288e-01, -1.13151925e+00, -6.51035629e-01,\n",
       "        1.46568953e+00,  1.60853602e+00,  1.29687096e+00, -8.06868156e-01,\n",
       "       -6.77007716e-01, -1.26137969e+00, -1.18346343e+00, -7.80896068e-01,\n",
       "        1.38777327e+00, -1.28735178e+00,  4.91736239e-01, -1.31593871e-01,\n",
       "       -1.00165882e+00, -1.31593871e-01,  3.72247006e-02,  9.46247777e-01,\n",
       "       -1.20943552e+00, -6.25063541e-01,  3.87847887e-01, -3.13398486e-01,\n",
       "       -1.30033783e+00, -1.49512849e+00,  2.32015360e-01,  2.32015360e-01,\n",
       "       -1.18346343e+00, -1.05621783e-01, -1.30033783e+00, -3.13398486e-01,\n",
       "       -1.05360299e+00,  1.41113052e-01, -2.77055191e-02, -7.15965848e-01,\n",
       "        1.02154920e-01,  3.35903711e-01, -1.35228200e+00,  1.53061975e+00,\n",
       "        6.47568766e-01, -5.34161233e-01, -8.71798376e-01, -1.43019827e+00,\n",
       "        2.32015360e-01,  6.21596678e-01,  1.29687096e+00, -5.08189145e-01,\n",
       "       -1.18607827e-01, -1.31332387e+00, -1.30033783e+00,  7.51457118e-01,\n",
       "       -1.13151925e+00, -1.44579915e-01, -1.26137969e+00, -2.35482222e-01,\n",
       "       -1.43019827e+00, -5.34161233e-01, -7.02979804e-01,  1.54099096e-01,\n",
       "       -1.35228200e+00, -7.28951892e-01, -8.06868156e-01,  1.28127008e-01,\n",
       "       -2.77055191e-02,  1.64749415e+00, -7.80896068e-01, -8.97770464e-01,\n",
       "       -3.13398486e-01, -6.51035629e-01,  1.94617316e+00,  5.95624590e-01,\n",
       "       -7.41937936e-01, -1.28735178e+00, -2.35482222e-01, -1.05621783e-01,\n",
       "        1.03715008e+00, -9.23742551e-01, -6.25063541e-01, -1.20943552e+00,\n",
       "        1.21895470e+00,  1.88124294e+00,  1.37478723e+00,  9.98191953e-01,\n",
       "        1.59554997e+00,  1.67346624e+00,  3.48889755e-01,  6.21596678e-01,\n",
       "        6.21596678e-01,  2.70973492e-01,  3.61875799e-01, -8.84784420e-01,\n",
       "       -4.04300794e-01,  1.15140964e-01, -6.89993760e-01, -5.60133321e-01,\n",
       "       -4.82217057e-01,  1.50464767e+00,  1.58256393e+00,  7.61828325e-02,\n",
       "       -5.86105409e-01, -8.97770464e-01, -6.38049585e-01,  1.55659184e+00,\n",
       "       -8.71798376e-01,  1.66048019e+00,  2.38769865e+00,  1.67346624e+00,\n",
       "       -4.43258925e-01,  2.14096382e+00,  1.07610822e+00, -1.19644947e+00,\n",
       "        2.83959536e-01,  1.38777327e+00,  3.35903711e-01, -3.13398486e-01,\n",
       "       -7.28951892e-01, -3.39370574e-01,  1.76436855e+00, -8.32840244e-01,\n",
       "        1.81631272e+00, -1.05360299e+00,  5.82638546e-01,  4.39792063e-01,\n",
       "       -1.65096101e+00, -8.84784420e-01, -7.28951892e-01,  5.56666458e-01,\n",
       "       -1.28735178e+00,  8.42359425e-01,  2.57987448e-01, -2.74440354e-01,\n",
       "        8.03401293e-01, -1.20943552e+00, -1.06658903e+00,  8.81317557e-01,\n",
       "        1.50464767e+00, -1.73343121e-03, -1.36526805e+00, -1.01464486e+00,\n",
       "        1.85527085e+00, -6.64021672e-01, -1.47194752e-02, -3.26384530e-01,\n",
       "        1.10208030e+00,  9.46247777e-01, -9.23742551e-01, -1.47194752e-02,\n",
       "       -5.86105409e-01, -1.14450530e+00, -1.83538046e-01,  4.26806019e-01,\n",
       "        1.46568953e+00, -6.64021672e-01, -1.96524090e-01, -1.18607827e-01,\n",
       "       -1.44579915e-01, -9.49714639e-01,  1.81631272e+00,  3.35903711e-01,\n",
       "       -7.93882112e-01, -4.69231013e-01, -8.58812332e-01, -3.91314750e-01,\n",
       "       -1.04061695e+00, -3.00412442e-01, -1.31593871e-01, -8.06868156e-01,\n",
       "        7.61828325e-02, -1.46915640e+00,  5.69652502e-01,  9.07289645e-01,\n",
       "        1.62152206e+00, -6.89993760e-01,  5.69652502e-01,  6.47568766e-01,\n",
       "        3.72247006e-02, -9.75686727e-01,  5.04722283e-01, -1.06658903e+00,\n",
       "       -1.02763090e+00, -1.33929596e+00, -1.13151925e+00,  1.43971745e+00,\n",
       "        1.24492679e+00,  1.86825690e+00,  8.03401293e-01,  4.26806019e-01,\n",
       "       -9.62700683e-01, -7.67910024e-01,  1.29687096e+00, -2.77055191e-02,\n",
       "       -9.75686727e-01,  7.25485030e-01, -9.75686727e-01, -5.73119365e-01,\n",
       "        1.02154920e-01, -1.28735178e+00,  8.81317557e-01,  2.42386567e-02,\n",
       "        1.38777327e+00, -8.06868156e-01,  1.21895470e+00, -3.65342662e-01,\n",
       "       -1.10554717e+00, -1.04061695e+00,  1.36180118e+00,  1.42673140e+00,\n",
       "        1.59554997e+00,  3.22917667e-01, -1.05360299e+00, -1.36526805e+00,\n",
       "        4.52778107e-01, -3.52356618e-01, -9.62700683e-01, -1.31332387e+00,\n",
       "        1.37478723e+00,  8.16387337e-01,  1.95915920e+00,  1.17999657e+00,\n",
       "       -7.93882112e-01, -2.77055191e-02,  2.05006151e+00,  1.12526127e-02,\n",
       "        2.51755909e+00, -1.15749134e+00, -8.19854200e-01, -1.32630991e+00,\n",
       "       -1.46915640e+00, -6.38049585e-01,  2.02408942e+00, -4.69231013e-01,\n",
       "       -9.26357388e-02, -1.01464486e+00, -1.39124013e+00, -4.82217057e-01,\n",
       "        1.45270349e+00, -8.45826288e-01,  6.47568766e-01, -3.26384530e-01,\n",
       "        3.87847887e-01,  1.15402448e+00, -1.11853321e+00, -7.54923980e-01,\n",
       "        1.69943833e+00, -1.14450530e+00, -6.51035629e-01,  6.21596678e-01,\n",
       "        1.46568953e+00, -7.54923980e-01,  1.01117800e+00,  3.74861843e-01,\n",
       "        5.02107446e-02,  1.05013613e+00, -1.19644947e+00,  8.68331513e-01,\n",
       "       -9.36728595e-01, -1.09256112e+00,  2.33575448e+00,  1.24492679e+00,\n",
       "       -8.84784420e-01,  6.21596678e-01, -1.26137969e+00, -8.71798376e-01,\n",
       "       -8.19854200e-01, -1.57304475e+00, -3.00412442e-01, -8.97770464e-01,\n",
       "        1.59554997e+00, -1.13151925e+00,  5.95624590e-01,  1.08909426e+00,\n",
       "        1.30985701e+00, -3.65342662e-01, -1.40422618e+00,  2.57987448e-01,\n",
       "       -4.95203101e-01, -1.31593871e-01, -5.60133321e-01,  3.61875799e-01,\n",
       "       -1.05621783e-01,  1.41113052e-01, -6.66636509e-02, -7.15965848e-01,\n",
       "        8.81317557e-01,  4.91736239e-01, -5.60133321e-01,  5.04722283e-01,\n",
       "       -3.91314750e-01,  1.01117800e+00,  1.16701052e+00,  1.24492679e+00,\n",
       "        1.25791283e+00,  5.17708327e-01, -2.74440354e-01,  1.10208030e+00,\n",
       "       -9.62700683e-01, -2.22496178e-01,  1.19298261e+00,  6.08610634e-01,\n",
       "        1.53061975e+00,  1.54099096e-01, -1.04061695e+00, -7.28951892e-01,\n",
       "        1.99811734e+00, -7.93882112e-01,  8.03401293e-01, -7.41937936e-01,\n",
       "        8.29373381e-01,  1.43971745e+00,  3.35903711e-01, -5.08189145e-01,\n",
       "        6.21596678e-01, -1.70552003e-01, -1.70552003e-01, -8.32840244e-01,\n",
       "       -5.36776070e-02, -8.32840244e-01,  1.17999657e+00, -1.05360299e+00,\n",
       "       -9.75686727e-01, -5.60133321e-01,  1.55659184e+00, -1.19644947e+00,\n",
       "       -1.27436574e+00,  8.94303601e-01, -8.06868156e-01,  2.06304756e+00,\n",
       "        1.67346624e+00,  3.87847887e-01,  2.19290800e+00, -1.22242156e+00,\n",
       "        1.42673140e+00,  6.99512942e-01,  1.05013613e+00,  1.16701052e+00,\n",
       "       -3.78328706e-01,  1.93057228e-01, -1.15749134e+00,  5.82638546e-01,\n",
       "       -1.05360299e+00,  2.06043272e-01, -1.57565959e-01,  8.42359425e-01,\n",
       "       -4.04300794e-01,  1.07610822e+00,  1.20596866e+00, -1.45617035e+00,\n",
       "       -1.30033783e+00, -6.25063541e-01, -2.61454310e-01, -8.32840244e-01,\n",
       "       -1.07957508e+00,  8.68331513e-01, -1.04061695e+00,  6.34582722e-01,\n",
       "       -5.47147277e-01, -1.31332387e+00,  1.62152206e+00, -1.15749134e+00,\n",
       "       -4.43258925e-01, -1.07957508e+00,  1.56957789e+00,  1.37478723e+00,\n",
       "       -1.41721222e+00,  5.95624590e-01,  1.16701052e+00,  1.03715008e+00,\n",
       "        2.96945580e-01, -7.67910024e-01,  2.06043272e-01,  1.59554997e+00,\n",
       "        1.82929877e+00,  1.67346624e+00, -1.04061695e+00, -1.57565959e-01,\n",
       "        4.78750195e-01,  3.74861843e-01,  7.38471074e-01, -2.09510134e-01,\n",
       "        1.41374536e+00, -5.08189145e-01, -2.74440354e-01,  2.83959536e-01,\n",
       "        1.36180118e+00, -1.26137969e+00, -8.84784420e-01, -1.43019827e+00,\n",
       "       -7.96496949e-02,  7.77429206e-01,  1.05013613e+00, -7.93882112e-01,\n",
       "       -5.34161233e-01, -1.73343121e-03, -4.17286837e-01, -1.10554717e+00,\n",
       "        2.05006151e+00, -7.54923980e-01,  4.00833931e-01, -1.11853321e+00,\n",
       "        2.70973492e-01, -1.04061695e+00, -1.33929596e+00, -1.14450530e+00,\n",
       "       -1.35228200e+00,  3.35903711e-01, -6.25063541e-01, -2.61454310e-01,\n",
       "        8.81317557e-01, -1.23540761e+00])"
      ]
     },
     "execution_count": 12,
     "metadata": {},
     "output_type": "execute_result"
    }
   ],
   "source": [
    "# Normalise the target data (this will make clearer training curves)\n",
    "targets = (targets - targets.mean(axis=0)) / targets.std()\n",
    "targets"
   ]
  },
  {
   "cell_type": "code",
   "execution_count": 15,
   "metadata": {},
   "outputs": [
    {
     "name": "stdout",
     "output_type": "stream",
     "text": [
      "(397, 10)\n",
      "(397,)\n"
     ]
    }
   ],
   "source": [
    "# Split the data into train and test sets\n",
    "\n",
    "from sklearn.model_selection import train_test_split\n",
    "\n",
    "train_d,test_d,train_targets,test_targets = train_test_split(data, targets, test_size = 0.1)\n",
    "\n",
    "print(train_d.shape)\n",
    "print(train_targets.shape)"
   ]
  },
  {
   "cell_type": "markdown",
   "metadata": {},
   "source": [
    "#### Train a feedforward neural network model"
   ]
  },
  {
   "cell_type": "code",
   "execution_count": 16,
   "metadata": {},
   "outputs": [],
   "source": [
    "# Build the model\n",
    "from tensorflow.keras import layers\n",
    "from tensorflow.keras.layers import Dense, Flatten, Softmax,Conv2D, MaxPooling2D\n",
    "from tensorflow.keras.models import Sequential\n",
    "\n",
    "def get_model():\n",
    "        model = Sequential([\n",
    "            Dense(128,activation = 'relu', input_shape=(train_d.shape[1],)),\n",
    "            Dense(128, activation = 'relu'),\n",
    "            Dense(128, activation = 'relu'),\n",
    "            Dense(128, activation = 'relu'),\n",
    "            Dense(128, activation = 'relu'),\n",
    "            Dense(128, activation = 'relu'),\n",
    "            Dense(1),\n",
    "        ])\n",
    "    \n",
    "        return model\n",
    "\n",
    "model = get_model()"
   ]
  },
  {
   "cell_type": "code",
   "execution_count": 17,
   "metadata": {},
   "outputs": [
    {
     "name": "stdout",
     "output_type": "stream",
     "text": [
      "Model: \"sequential\"\n",
      "_________________________________________________________________\n",
      "Layer (type)                 Output Shape              Param #   \n",
      "=================================================================\n",
      "dense (Dense)                (None, 128)               1408      \n",
      "_________________________________________________________________\n",
      "dense_1 (Dense)              (None, 128)               16512     \n",
      "_________________________________________________________________\n",
      "dense_2 (Dense)              (None, 128)               16512     \n",
      "_________________________________________________________________\n",
      "dense_3 (Dense)              (None, 128)               16512     \n",
      "_________________________________________________________________\n",
      "dense_4 (Dense)              (None, 128)               16512     \n",
      "_________________________________________________________________\n",
      "dense_5 (Dense)              (None, 128)               16512     \n",
      "_________________________________________________________________\n",
      "dense_6 (Dense)              (None, 1)                 129       \n",
      "=================================================================\n",
      "Total params: 84,097\n",
      "Trainable params: 84,097\n",
      "Non-trainable params: 0\n",
      "_________________________________________________________________\n"
     ]
    }
   ],
   "source": [
    "# Print the model summary\n",
    "\n",
    "model.summary()"
   ]
  },
  {
   "cell_type": "code",
   "execution_count": 18,
   "metadata": {},
   "outputs": [],
   "source": [
    "# Compile the model\n",
    "model.compile(optimizer = 'adam',loss = 'mse',metrics=['mae']) \n"
   ]
  },
  {
   "cell_type": "code",
   "execution_count": 19,
   "metadata": {},
   "outputs": [
    {
     "name": "stdout",
     "output_type": "stream",
     "text": [
      "Epoch 1/100\n",
      "6/6 [==============================] - 0s 28ms/step - loss: 0.9990 - mae: 0.8485 - val_loss: 0.8348 - val_mae: 0.8201\n",
      "Epoch 2/100\n",
      "6/6 [==============================] - 0s 5ms/step - loss: 0.9176 - mae: 0.8162 - val_loss: 0.7416 - val_mae: 0.7793\n",
      "Epoch 3/100\n",
      "6/6 [==============================] - 0s 5ms/step - loss: 0.7380 - mae: 0.7258 - val_loss: 0.5910 - val_mae: 0.6874\n",
      "Epoch 4/100\n",
      "6/6 [==============================] - 0s 6ms/step - loss: 0.5333 - mae: 0.5992 - val_loss: 0.5702 - val_mae: 0.6169\n",
      "Epoch 5/100\n",
      "6/6 [==============================] - 0s 5ms/step - loss: 0.4933 - mae: 0.5488 - val_loss: 0.5551 - val_mae: 0.6268\n",
      "Epoch 6/100\n",
      "6/6 [==============================] - 0s 6ms/step - loss: 0.4686 - mae: 0.5442 - val_loss: 0.6426 - val_mae: 0.6755\n",
      "Epoch 7/100\n",
      "6/6 [==============================] - 0s 6ms/step - loss: 0.4549 - mae: 0.5445 - val_loss: 0.5454 - val_mae: 0.5972\n",
      "Epoch 8/100\n",
      "6/6 [==============================] - 0s 6ms/step - loss: 0.4384 - mae: 0.5213 - val_loss: 0.5927 - val_mae: 0.6308\n",
      "Epoch 9/100\n",
      "6/6 [==============================] - 0s 6ms/step - loss: 0.4188 - mae: 0.5086 - val_loss: 0.5457 - val_mae: 0.6122\n",
      "Epoch 10/100\n",
      "6/6 [==============================] - 0s 5ms/step - loss: 0.4157 - mae: 0.5115 - val_loss: 0.6349 - val_mae: 0.6618\n",
      "Epoch 11/100\n",
      "6/6 [==============================] - 0s 5ms/step - loss: 0.4045 - mae: 0.5030 - val_loss: 0.5618 - val_mae: 0.5955\n",
      "Epoch 12/100\n",
      "6/6 [==============================] - 0s 5ms/step - loss: 0.4185 - mae: 0.5093 - val_loss: 0.8598 - val_mae: 0.7940\n",
      "Epoch 13/100\n",
      "6/6 [==============================] - 0s 5ms/step - loss: 0.4733 - mae: 0.5534 - val_loss: 0.5586 - val_mae: 0.5804\n",
      "Epoch 14/100\n",
      "6/6 [==============================] - 0s 5ms/step - loss: 0.4140 - mae: 0.5085 - val_loss: 0.7097 - val_mae: 0.7108\n",
      "Epoch 15/100\n",
      "6/6 [==============================] - 0s 5ms/step - loss: 0.4172 - mae: 0.5031 - val_loss: 0.5493 - val_mae: 0.5859\n",
      "Epoch 16/100\n",
      "6/6 [==============================] - 0s 6ms/step - loss: 0.4289 - mae: 0.5122 - val_loss: 0.6408 - val_mae: 0.6540\n",
      "Epoch 17/100\n",
      "6/6 [==============================] - 0s 6ms/step - loss: 0.3907 - mae: 0.4967 - val_loss: 0.5883 - val_mae: 0.6252\n",
      "Epoch 18/100\n",
      "6/6 [==============================] - 0s 5ms/step - loss: 0.3810 - mae: 0.4850 - val_loss: 0.6320 - val_mae: 0.6404\n",
      "Epoch 19/100\n",
      "6/6 [==============================] - 0s 5ms/step - loss: 0.3750 - mae: 0.4778 - val_loss: 0.6151 - val_mae: 0.6172\n",
      "Epoch 20/100\n",
      "6/6 [==============================] - 0s 5ms/step - loss: 0.3556 - mae: 0.4661 - val_loss: 0.6506 - val_mae: 0.6595\n",
      "Epoch 21/100\n",
      "6/6 [==============================] - 0s 5ms/step - loss: 0.3550 - mae: 0.4711 - val_loss: 0.5963 - val_mae: 0.6108\n",
      "Epoch 22/100\n",
      "6/6 [==============================] - 0s 5ms/step - loss: 0.3616 - mae: 0.4686 - val_loss: 0.6403 - val_mae: 0.6447\n",
      "Epoch 23/100\n",
      "6/6 [==============================] - 0s 5ms/step - loss: 0.3393 - mae: 0.4538 - val_loss: 0.6313 - val_mae: 0.6434\n",
      "Epoch 24/100\n",
      "6/6 [==============================] - 0s 5ms/step - loss: 0.3331 - mae: 0.4487 - val_loss: 0.6749 - val_mae: 0.6648\n",
      "Epoch 25/100\n",
      "6/6 [==============================] - 0s 6ms/step - loss: 0.3244 - mae: 0.4424 - val_loss: 0.5947 - val_mae: 0.5962\n",
      "Epoch 26/100\n",
      "6/6 [==============================] - 0s 5ms/step - loss: 0.3629 - mae: 0.4682 - val_loss: 0.7109 - val_mae: 0.6931\n",
      "Epoch 27/100\n",
      "6/6 [==============================] - 0s 6ms/step - loss: 0.3491 - mae: 0.4630 - val_loss: 0.6111 - val_mae: 0.6330\n",
      "Epoch 28/100\n",
      "6/6 [==============================] - 0s 5ms/step - loss: 0.3366 - mae: 0.4598 - val_loss: 0.6152 - val_mae: 0.6330\n",
      "Epoch 29/100\n",
      "6/6 [==============================] - 0s 5ms/step - loss: 0.3050 - mae: 0.4259 - val_loss: 0.7257 - val_mae: 0.6903\n",
      "Epoch 30/100\n",
      "6/6 [==============================] - 0s 5ms/step - loss: 0.3058 - mae: 0.4287 - val_loss: 0.6468 - val_mae: 0.6246\n",
      "Epoch 31/100\n",
      "6/6 [==============================] - 0s 5ms/step - loss: 0.2932 - mae: 0.4151 - val_loss: 0.7626 - val_mae: 0.7280\n",
      "Epoch 32/100\n",
      "6/6 [==============================] - 0s 5ms/step - loss: 0.2906 - mae: 0.4181 - val_loss: 0.6439 - val_mae: 0.6300\n",
      "Epoch 33/100\n",
      "6/6 [==============================] - 0s 5ms/step - loss: 0.2761 - mae: 0.4051 - val_loss: 0.6427 - val_mae: 0.6211\n",
      "Epoch 34/100\n",
      "6/6 [==============================] - 0s 5ms/step - loss: 0.2834 - mae: 0.4080 - val_loss: 0.8271 - val_mae: 0.7629\n",
      "Epoch 35/100\n",
      "6/6 [==============================] - 0s 5ms/step - loss: 0.2939 - mae: 0.4185 - val_loss: 0.6502 - val_mae: 0.6354\n",
      "Epoch 36/100\n",
      "6/6 [==============================] - 0s 6ms/step - loss: 0.2684 - mae: 0.4021 - val_loss: 0.6108 - val_mae: 0.6182\n",
      "Epoch 37/100\n",
      "6/6 [==============================] - 0s 5ms/step - loss: 0.2636 - mae: 0.3940 - val_loss: 0.7996 - val_mae: 0.7391\n",
      "Epoch 38/100\n",
      "6/6 [==============================] - 0s 5ms/step - loss: 0.2910 - mae: 0.4152 - val_loss: 0.7546 - val_mae: 0.7118\n",
      "Epoch 39/100\n",
      "6/6 [==============================] - 0s 5ms/step - loss: 0.2623 - mae: 0.4029 - val_loss: 0.6149 - val_mae: 0.6160\n",
      "Epoch 40/100\n",
      "6/6 [==============================] - 0s 5ms/step - loss: 0.2649 - mae: 0.3991 - val_loss: 0.6648 - val_mae: 0.6436\n",
      "Epoch 41/100\n",
      "6/6 [==============================] - 0s 5ms/step - loss: 0.2482 - mae: 0.3811 - val_loss: 0.7968 - val_mae: 0.7275\n",
      "Epoch 42/100\n",
      "6/6 [==============================] - 0s 5ms/step - loss: 0.2328 - mae: 0.3685 - val_loss: 0.7628 - val_mae: 0.6990\n",
      "Epoch 43/100\n",
      "6/6 [==============================] - 0s 6ms/step - loss: 0.2330 - mae: 0.3624 - val_loss: 0.7461 - val_mae: 0.6955\n",
      "Epoch 44/100\n",
      "6/6 [==============================] - 0s 6ms/step - loss: 0.2080 - mae: 0.3415 - val_loss: 0.6599 - val_mae: 0.6390\n",
      "Epoch 45/100\n",
      "6/6 [==============================] - 0s 6ms/step - loss: 0.2067 - mae: 0.3408 - val_loss: 0.7607 - val_mae: 0.7060\n",
      "Epoch 46/100\n",
      "6/6 [==============================] - 0s 7ms/step - loss: 0.1994 - mae: 0.3421 - val_loss: 0.8437 - val_mae: 0.7534\n",
      "Epoch 47/100\n",
      "6/6 [==============================] - 0s 5ms/step - loss: 0.2009 - mae: 0.3430 - val_loss: 0.8416 - val_mae: 0.7487\n",
      "Epoch 48/100\n",
      "6/6 [==============================] - 0s 5ms/step - loss: 0.1942 - mae: 0.3417 - val_loss: 0.7254 - val_mae: 0.6920\n",
      "Epoch 49/100\n",
      "6/6 [==============================] - 0s 5ms/step - loss: 0.1819 - mae: 0.3248 - val_loss: 0.7685 - val_mae: 0.6989\n",
      "Epoch 50/100\n",
      "6/6 [==============================] - 0s 6ms/step - loss: 0.1725 - mae: 0.3040 - val_loss: 0.6751 - val_mae: 0.6392\n",
      "Epoch 51/100\n",
      "6/6 [==============================] - 0s 5ms/step - loss: 0.1862 - mae: 0.3291 - val_loss: 0.6256 - val_mae: 0.6112\n",
      "Epoch 52/100\n",
      "6/6 [==============================] - 0s 5ms/step - loss: 0.2025 - mae: 0.3455 - val_loss: 0.6367 - val_mae: 0.6425\n",
      "Epoch 53/100\n",
      "6/6 [==============================] - 0s 5ms/step - loss: 0.1659 - mae: 0.3104 - val_loss: 0.7513 - val_mae: 0.6981\n",
      "Epoch 54/100\n",
      "6/6 [==============================] - 0s 5ms/step - loss: 0.1507 - mae: 0.2910 - val_loss: 0.8785 - val_mae: 0.7837\n",
      "Epoch 55/100\n",
      "6/6 [==============================] - 0s 5ms/step - loss: 0.1700 - mae: 0.3169 - val_loss: 0.8907 - val_mae: 0.7828\n",
      "Epoch 56/100\n",
      "6/6 [==============================] - 0s 6ms/step - loss: 0.1710 - mae: 0.3145 - val_loss: 0.8339 - val_mae: 0.7575\n",
      "Epoch 57/100\n",
      "6/6 [==============================] - 0s 5ms/step - loss: 0.1584 - mae: 0.3102 - val_loss: 0.7508 - val_mae: 0.7076\n",
      "Epoch 58/100\n",
      "6/6 [==============================] - 0s 5ms/step - loss: 0.1457 - mae: 0.2931 - val_loss: 0.8212 - val_mae: 0.7595\n",
      "Epoch 59/100\n",
      "6/6 [==============================] - 0s 5ms/step - loss: 0.1497 - mae: 0.2925 - val_loss: 0.7390 - val_mae: 0.6917\n",
      "Epoch 60/100\n",
      "6/6 [==============================] - 0s 5ms/step - loss: 0.1305 - mae: 0.2720 - val_loss: 0.7261 - val_mae: 0.6699\n",
      "Epoch 61/100\n",
      "6/6 [==============================] - 0s 5ms/step - loss: 0.1260 - mae: 0.2632 - val_loss: 0.7065 - val_mae: 0.6699\n",
      "Epoch 62/100\n",
      "6/6 [==============================] - 0s 5ms/step - loss: 0.1200 - mae: 0.2569 - val_loss: 0.7377 - val_mae: 0.6736\n",
      "Epoch 63/100\n",
      "6/6 [==============================] - 0s 5ms/step - loss: 0.1047 - mae: 0.2338 - val_loss: 0.8050 - val_mae: 0.7300\n",
      "Epoch 64/100\n",
      "6/6 [==============================] - 0s 6ms/step - loss: 0.1155 - mae: 0.2573 - val_loss: 0.7731 - val_mae: 0.7072\n",
      "Epoch 65/100\n",
      "6/6 [==============================] - 0s 7ms/step - loss: 0.1056 - mae: 0.2404 - val_loss: 0.7342 - val_mae: 0.6812\n",
      "Epoch 66/100\n",
      "6/6 [==============================] - 0s 5ms/step - loss: 0.0906 - mae: 0.2148 - val_loss: 0.6931 - val_mae: 0.6568\n",
      "Epoch 67/100\n",
      "6/6 [==============================] - 0s 5ms/step - loss: 0.0887 - mae: 0.2158 - val_loss: 0.7006 - val_mae: 0.6593\n",
      "Epoch 68/100\n",
      "6/6 [==============================] - 0s 5ms/step - loss: 0.0875 - mae: 0.2077 - val_loss: 0.7720 - val_mae: 0.7191\n",
      "Epoch 69/100\n",
      "6/6 [==============================] - 0s 5ms/step - loss: 0.0963 - mae: 0.2252 - val_loss: 0.7491 - val_mae: 0.6829\n",
      "Epoch 70/100\n",
      "6/6 [==============================] - 0s 6ms/step - loss: 0.0863 - mae: 0.2113 - val_loss: 0.6630 - val_mae: 0.6374\n",
      "Epoch 71/100\n",
      "6/6 [==============================] - 0s 5ms/step - loss: 0.0956 - mae: 0.2262 - val_loss: 0.7803 - val_mae: 0.6982\n",
      "Epoch 72/100\n",
      "6/6 [==============================] - 0s 5ms/step - loss: 0.0869 - mae: 0.2129 - val_loss: 0.7388 - val_mae: 0.6898\n",
      "Epoch 73/100\n",
      "6/6 [==============================] - 0s 5ms/step - loss: 0.0865 - mae: 0.2171 - val_loss: 0.7348 - val_mae: 0.6645\n",
      "Epoch 74/100\n",
      "6/6 [==============================] - 0s 5ms/step - loss: 0.0789 - mae: 0.2007 - val_loss: 0.6799 - val_mae: 0.6382\n",
      "Epoch 75/100\n",
      "6/6 [==============================] - 0s 6ms/step - loss: 0.0833 - mae: 0.2094 - val_loss: 0.7126 - val_mae: 0.6694\n",
      "Epoch 76/100\n",
      "6/6 [==============================] - 0s 5ms/step - loss: 0.0776 - mae: 0.2013 - val_loss: 0.8126 - val_mae: 0.7192\n",
      "Epoch 77/100\n",
      "6/6 [==============================] - 0s 5ms/step - loss: 0.0774 - mae: 0.1987 - val_loss: 0.7382 - val_mae: 0.6903\n",
      "Epoch 78/100\n",
      "6/6 [==============================] - 0s 6ms/step - loss: 0.0725 - mae: 0.1961 - val_loss: 0.7290 - val_mae: 0.6633\n",
      "Epoch 79/100\n",
      "6/6 [==============================] - 0s 5ms/step - loss: 0.0746 - mae: 0.1979 - val_loss: 0.8326 - val_mae: 0.7290\n",
      "Epoch 80/100\n",
      "6/6 [==============================] - 0s 5ms/step - loss: 0.0715 - mae: 0.1939 - val_loss: 0.7660 - val_mae: 0.6930\n",
      "Epoch 81/100\n",
      "6/6 [==============================] - 0s 5ms/step - loss: 0.0826 - mae: 0.2150 - val_loss: 0.7189 - val_mae: 0.6604\n",
      "Epoch 82/100\n",
      "6/6 [==============================] - 0s 5ms/step - loss: 0.0850 - mae: 0.2189 - val_loss: 0.7504 - val_mae: 0.7310\n",
      "Epoch 83/100\n",
      "6/6 [==============================] - 0s 5ms/step - loss: 0.0895 - mae: 0.2190 - val_loss: 0.7982 - val_mae: 0.7415\n",
      "Epoch 84/100\n",
      "6/6 [==============================] - 0s 5ms/step - loss: 0.0734 - mae: 0.2062 - val_loss: 0.8499 - val_mae: 0.7415\n",
      "Epoch 85/100\n",
      "6/6 [==============================] - 0s 6ms/step - loss: 0.0784 - mae: 0.2062 - val_loss: 0.6831 - val_mae: 0.6308\n",
      "Epoch 86/100\n",
      "6/6 [==============================] - 0s 5ms/step - loss: 0.0896 - mae: 0.2351 - val_loss: 0.6624 - val_mae: 0.5946\n",
      "Epoch 87/100\n",
      "6/6 [==============================] - 0s 5ms/step - loss: 0.1212 - mae: 0.2718 - val_loss: 0.6364 - val_mae: 0.6156\n",
      "Epoch 88/100\n",
      "6/6 [==============================] - 0s 5ms/step - loss: 0.1458 - mae: 0.2932 - val_loss: 0.7741 - val_mae: 0.7149\n",
      "Epoch 89/100\n",
      "6/6 [==============================] - 0s 5ms/step - loss: 0.1298 - mae: 0.2787 - val_loss: 0.7074 - val_mae: 0.7071\n",
      "Epoch 90/100\n",
      "6/6 [==============================] - 0s 5ms/step - loss: 0.1183 - mae: 0.2677 - val_loss: 0.7128 - val_mae: 0.6619\n",
      "Epoch 91/100\n",
      "6/6 [==============================] - 0s 5ms/step - loss: 0.1072 - mae: 0.2503 - val_loss: 0.6953 - val_mae: 0.6413\n",
      "Epoch 92/100\n",
      "6/6 [==============================] - 0s 5ms/step - loss: 0.0847 - mae: 0.2186 - val_loss: 0.7211 - val_mae: 0.6790\n",
      "Epoch 93/100\n",
      "6/6 [==============================] - 0s 5ms/step - loss: 0.0760 - mae: 0.2038 - val_loss: 0.7768 - val_mae: 0.7257\n",
      "Epoch 94/100\n",
      "6/6 [==============================] - 0s 6ms/step - loss: 0.0663 - mae: 0.1871 - val_loss: 0.7967 - val_mae: 0.7301\n",
      "Epoch 95/100\n",
      "6/6 [==============================] - 0s 5ms/step - loss: 0.0661 - mae: 0.1882 - val_loss: 0.7254 - val_mae: 0.6705\n",
      "Epoch 96/100\n",
      "6/6 [==============================] - 0s 5ms/step - loss: 0.0711 - mae: 0.2047 - val_loss: 0.7645 - val_mae: 0.6966\n",
      "Epoch 97/100\n",
      "6/6 [==============================] - 0s 6ms/step - loss: 0.0561 - mae: 0.1718 - val_loss: 0.7292 - val_mae: 0.6444\n",
      "Epoch 98/100\n",
      "6/6 [==============================] - 0s 5ms/step - loss: 0.0676 - mae: 0.1997 - val_loss: 0.7377 - val_mae: 0.6750\n",
      "Epoch 99/100\n",
      "6/6 [==============================] - 0s 5ms/step - loss: 0.0516 - mae: 0.1718 - val_loss: 0.7661 - val_mae: 0.6705\n",
      "Epoch 100/100\n",
      "6/6 [==============================] - 0s 5ms/step - loss: 0.0647 - mae: 0.1887 - val_loss: 0.7026 - val_mae: 0.6507\n"
     ]
    }
   ],
   "source": [
    "# Train the model, with some of the data reserved for validation\n",
    "\n",
    "history = model.fit(train_d,train_targets, epochs = 100, validation_split = 0.15, batch_size=64)"
   ]
  },
  {
   "cell_type": "code",
   "execution_count": 21,
   "metadata": {},
   "outputs": [
    {
     "name": "stdout",
     "output_type": "stream",
     "text": [
      "2/2 [==============================] - 0s 4ms/step - loss: 0.8879 - mae: 0.7221\n"
     ]
    },
    {
     "data": {
      "text/plain": [
       "[0.8879235982894897, 0.7221440672874451]"
      ]
     },
     "execution_count": 21,
     "metadata": {},
     "output_type": "execute_result"
    }
   ],
   "source": [
    "# Evaluate the model on the test set\n",
    "model.evaluate(test_d, test_targets)\n"
   ]
  },
  {
   "cell_type": "markdown",
   "metadata": {},
   "source": [
    "#### Plot the learning curves"
   ]
  },
  {
   "cell_type": "code",
   "execution_count": 23,
   "metadata": {},
   "outputs": [],
   "source": [
    "import matplotlib.pyplot as plt\n",
    "%matplotlib inline"
   ]
  },
  {
   "cell_type": "code",
   "execution_count": 24,
   "metadata": {},
   "outputs": [
    {
     "data": {
      "image/png": "[encoded data removed]",
      "text/plain": [
       "<Figure size 432x288 with 1 Axes>"
      ]
     },
     "metadata": {
      "needs_background": "light"
     },
     "output_type": "display_data"
    }
   ],
   "source": [
    "# Plot the training and validation loss\n",
    "\n",
    "plt.plot(history.history['loss'])\n",
    "plt.plot(history.history['val_loss'])\n",
    "plt.title('Loss vs. epochs')\n",
    "plt.ylabel('Loss')\n",
    "plt.xlabel('Epoch')\n",
    "plt.legend(['Training', 'Validation'], loc='upper right')\n",
    "plt.show()"
   ]
  },
  {
   "cell_type": "markdown",
   "metadata": {},
   "source": [
    "***\n",
    "<a id=\"coding_tutorial_2\"></a>\n",
    "## Model regularisation"
   ]
  },
  {
   "cell_type": "markdown",
   "metadata": {},
   "source": [
    "#### Adding regularisation with weight decay and dropout"
   ]
  },
  {
   "cell_type": "code",
   "execution_count": 25,
   "metadata": {},
   "outputs": [],
   "source": [
    "from tensorflow.keras.layers import Dropout\n",
    "from tensorflow.keras import regularizers"
   ]
  },
  {
   "cell_type": "code",
   "execution_count": 38,
   "metadata": {},
   "outputs": [],
   "source": [
    "def get_regularised_model(wd, rate):\n",
    "    model = Sequential([\n",
    "        Dense(128, kernel_regularizer = regularizers.l2(wd),\n",
    "              activation=\"relu\", input_shape=(train_d.shape[1],)),\n",
    "        Dropout(rate),\n",
    "        Dense(128, kernel_regularizer = regularizers.l2(wd),activation=\"relu\"),\n",
    "        Dropout(rate),\n",
    "        Dense(128, kernel_regularizer = regularizers.l2(wd),activation=\"relu\"),\n",
    "        Dropout(rate),        \n",
    "        Dense(128, kernel_regularizer = regularizers.l2(wd),activation=\"relu\"),\n",
    "        Dropout(rate),\n",
    "        Dense(128, kernel_regularizer = regularizers.l2(wd),activation=\"relu\"),\n",
    "        Dropout(rate),\n",
    "        Dense(128, kernel_regularizer = regularizers.l2(wd),activation=\"relu\"),\n",
    "        Dense(1)\n",
    "    ])\n",
    "    return model"
   ]
  },
  {
   "cell_type": "code",
   "execution_count": 44,
   "metadata": {},
   "outputs": [],
   "source": [
    "# Re-build the model with weight decay and dropout layers\n",
    "\n",
    "model = get_regularised_model(1e-5,0.3)"
   ]
  },
  {
   "cell_type": "code",
   "execution_count": 40,
   "metadata": {},
   "outputs": [],
   "source": [
    "# Compile the model\n",
    "\n",
    "model.compile(optimizer = 'adam',loss = 'mse',metrics=['mae']) \n"
   ]
  },
  {
   "cell_type": "code",
   "execution_count": 41,
   "metadata": {},
   "outputs": [
    {
     "name": "stdout",
     "output_type": "stream",
     "text": [
      "Epoch 1/100\n",
      "6/6 [==============================] - 0s 23ms/step - loss: 1.0149 - mae: 0.8534 - val_loss: 0.8737 - val_mae: 0.8376\n",
      "Epoch 2/100\n",
      "6/6 [==============================] - 0s 5ms/step - loss: 0.9979 - mae: 0.8491 - val_loss: 0.8573 - val_mae: 0.8311\n",
      "Epoch 3/100\n",
      "6/6 [==============================] - 0s 5ms/step - loss: 0.9505 - mae: 0.8308 - val_loss: 0.8513 - val_mae: 0.8366\n",
      "Epoch 4/100\n",
      "6/6 [==============================] - 0s 5ms/step - loss: 0.8599 - mae: 0.7925 - val_loss: 0.7756 - val_mae: 0.7953\n",
      "Epoch 5/100\n",
      "6/6 [==============================] - 0s 5ms/step - loss: 0.7107 - mae: 0.7188 - val_loss: 0.6746 - val_mae: 0.7382\n",
      "Epoch 6/100\n",
      "6/6 [==============================] - 0s 5ms/step - loss: 0.6276 - mae: 0.6676 - val_loss: 0.5784 - val_mae: 0.6527\n",
      "Epoch 7/100\n",
      "6/6 [==============================] - 0s 5ms/step - loss: 0.6185 - mae: 0.6284 - val_loss: 0.5698 - val_mae: 0.6436\n",
      "Epoch 8/100\n",
      "6/6 [==============================] - 0s 5ms/step - loss: 0.5573 - mae: 0.6015 - val_loss: 0.5527 - val_mae: 0.6333\n",
      "Epoch 9/100\n",
      "6/6 [==============================] - 0s 5ms/step - loss: 0.5329 - mae: 0.5929 - val_loss: 0.5775 - val_mae: 0.6423\n",
      "Epoch 10/100\n",
      "6/6 [==============================] - 0s 5ms/step - loss: 0.5100 - mae: 0.5791 - val_loss: 0.5830 - val_mae: 0.6364\n",
      "Epoch 11/100\n",
      "6/6 [==============================] - 0s 5ms/step - loss: 0.5712 - mae: 0.6092 - val_loss: 0.5358 - val_mae: 0.6148\n",
      "Epoch 12/100\n",
      "6/6 [==============================] - 0s 5ms/step - loss: 0.5387 - mae: 0.5906 - val_loss: 0.5842 - val_mae: 0.6475\n",
      "Epoch 13/100\n",
      "6/6 [==============================] - 0s 6ms/step - loss: 0.5245 - mae: 0.5865 - val_loss: 0.5927 - val_mae: 0.6421\n",
      "Epoch 14/100\n",
      "6/6 [==============================] - 0s 5ms/step - loss: 0.4849 - mae: 0.5532 - val_loss: 0.5703 - val_mae: 0.6272\n",
      "Epoch 15/100\n",
      "6/6 [==============================] - 0s 5ms/step - loss: 0.4850 - mae: 0.5595 - val_loss: 0.6123 - val_mae: 0.6435\n",
      "Epoch 16/100\n",
      "6/6 [==============================] - 0s 6ms/step - loss: 0.4971 - mae: 0.5455 - val_loss: 0.5778 - val_mae: 0.6288\n",
      "Epoch 17/100\n",
      "6/6 [==============================] - 0s 5ms/step - loss: 0.4792 - mae: 0.5588 - val_loss: 0.6159 - val_mae: 0.6510\n",
      "Epoch 18/100\n",
      "6/6 [==============================] - 0s 5ms/step - loss: 0.4471 - mae: 0.5236 - val_loss: 0.5758 - val_mae: 0.6262\n",
      "Epoch 19/100\n",
      "6/6 [==============================] - 0s 5ms/step - loss: 0.4976 - mae: 0.5550 - val_loss: 0.5733 - val_mae: 0.6353\n",
      "Epoch 20/100\n",
      "6/6 [==============================] - 0s 5ms/step - loss: 0.4669 - mae: 0.5458 - val_loss: 0.6036 - val_mae: 0.6464\n",
      "Epoch 21/100\n",
      "6/6 [==============================] - 0s 5ms/step - loss: 0.4885 - mae: 0.5532 - val_loss: 0.5797 - val_mae: 0.6234\n",
      "Epoch 22/100\n",
      "6/6 [==============================] - 0s 5ms/step - loss: 0.4733 - mae: 0.5520 - val_loss: 0.5947 - val_mae: 0.6483\n",
      "Epoch 23/100\n",
      "6/6 [==============================] - 0s 6ms/step - loss: 0.4699 - mae: 0.5467 - val_loss: 0.5950 - val_mae: 0.6456\n",
      "Epoch 24/100\n",
      "6/6 [==============================] - 0s 5ms/step - loss: 0.4427 - mae: 0.5191 - val_loss: 0.6057 - val_mae: 0.6387\n",
      "Epoch 25/100\n",
      "6/6 [==============================] - 0s 5ms/step - loss: 0.4694 - mae: 0.5328 - val_loss: 0.5894 - val_mae: 0.6271\n",
      "Epoch 26/100\n",
      "6/6 [==============================] - 0s 5ms/step - loss: 0.4390 - mae: 0.5310 - val_loss: 0.5837 - val_mae: 0.6258\n",
      "Epoch 27/100\n",
      "6/6 [==============================] - 0s 5ms/step - loss: 0.4626 - mae: 0.5309 - val_loss: 0.6349 - val_mae: 0.6505\n",
      "Epoch 28/100\n",
      "6/6 [==============================] - 0s 5ms/step - loss: 0.4408 - mae: 0.5201 - val_loss: 0.6044 - val_mae: 0.6377\n",
      "Epoch 29/100\n",
      "6/6 [==============================] - 0s 5ms/step - loss: 0.4523 - mae: 0.5305 - val_loss: 0.5683 - val_mae: 0.6260\n",
      "Epoch 30/100\n",
      "6/6 [==============================] - 0s 5ms/step - loss: 0.4559 - mae: 0.5369 - val_loss: 0.5957 - val_mae: 0.6382\n",
      "Epoch 31/100\n",
      "6/6 [==============================] - 0s 5ms/step - loss: 0.4261 - mae: 0.5197 - val_loss: 0.6110 - val_mae: 0.6308\n",
      "Epoch 32/100\n",
      "6/6 [==============================] - 0s 6ms/step - loss: 0.4427 - mae: 0.5128 - val_loss: 0.5966 - val_mae: 0.6255\n",
      "Epoch 33/100\n",
      "6/6 [==============================] - 0s 5ms/step - loss: 0.4295 - mae: 0.5072 - val_loss: 0.5885 - val_mae: 0.6233\n",
      "Epoch 34/100\n",
      "6/6 [==============================] - 0s 5ms/step - loss: 0.4189 - mae: 0.5039 - val_loss: 0.6046 - val_mae: 0.6494\n",
      "Epoch 35/100\n",
      "6/6 [==============================] - 0s 5ms/step - loss: 0.4312 - mae: 0.5262 - val_loss: 0.5620 - val_mae: 0.6077\n",
      "Epoch 36/100\n",
      "6/6 [==============================] - 0s 5ms/step - loss: 0.4289 - mae: 0.5226 - val_loss: 0.5929 - val_mae: 0.6288\n",
      "Epoch 37/100\n",
      "6/6 [==============================] - 0s 5ms/step - loss: 0.4200 - mae: 0.5189 - val_loss: 0.5877 - val_mae: 0.6308\n",
      "Epoch 38/100\n",
      "6/6 [==============================] - 0s 5ms/step - loss: 0.4159 - mae: 0.5043 - val_loss: 0.6057 - val_mae: 0.6413\n",
      "Epoch 39/100\n",
      "6/6 [==============================] - 0s 5ms/step - loss: 0.4212 - mae: 0.5049 - val_loss: 0.5997 - val_mae: 0.6231\n",
      "Epoch 40/100\n",
      "6/6 [==============================] - 0s 5ms/step - loss: 0.4252 - mae: 0.5076 - val_loss: 0.6256 - val_mae: 0.6435\n",
      "Epoch 41/100\n",
      "6/6 [==============================] - 0s 5ms/step - loss: 0.4156 - mae: 0.5140 - val_loss: 0.5465 - val_mae: 0.6057\n",
      "Epoch 42/100\n",
      "6/6 [==============================] - 0s 6ms/step - loss: 0.4007 - mae: 0.5035 - val_loss: 0.6102 - val_mae: 0.6454\n",
      "Epoch 43/100\n",
      "6/6 [==============================] - 0s 5ms/step - loss: 0.4071 - mae: 0.4948 - val_loss: 0.6015 - val_mae: 0.6204\n",
      "Epoch 44/100\n",
      "6/6 [==============================] - 0s 6ms/step - loss: 0.4067 - mae: 0.4945 - val_loss: 0.5951 - val_mae: 0.6407\n",
      "Epoch 45/100\n",
      "6/6 [==============================] - 0s 5ms/step - loss: 0.3972 - mae: 0.5034 - val_loss: 0.5695 - val_mae: 0.6193\n",
      "Epoch 46/100\n",
      "6/6 [==============================] - 0s 6ms/step - loss: 0.4068 - mae: 0.5014 - val_loss: 0.5704 - val_mae: 0.6100\n",
      "Epoch 47/100\n",
      "6/6 [==============================] - 0s 5ms/step - loss: 0.3959 - mae: 0.4932 - val_loss: 0.6225 - val_mae: 0.6430\n",
      "Epoch 48/100\n",
      "6/6 [==============================] - 0s 6ms/step - loss: 0.3992 - mae: 0.4900 - val_loss: 0.5929 - val_mae: 0.6141\n",
      "Epoch 49/100\n",
      "6/6 [==============================] - 0s 6ms/step - loss: 0.3993 - mae: 0.4969 - val_loss: 0.6610 - val_mae: 0.6643\n",
      "Epoch 50/100\n",
      "6/6 [==============================] - 0s 6ms/step - loss: 0.3832 - mae: 0.4785 - val_loss: 0.5603 - val_mae: 0.6036\n",
      "Epoch 51/100\n",
      "6/6 [==============================] - 0s 5ms/step - loss: 0.3934 - mae: 0.4854 - val_loss: 0.6818 - val_mae: 0.6732\n",
      "Epoch 52/100\n",
      "6/6 [==============================] - 0s 6ms/step - loss: 0.3809 - mae: 0.4776 - val_loss: 0.5768 - val_mae: 0.6092\n",
      "Epoch 53/100\n",
      "6/6 [==============================] - 0s 7ms/step - loss: 0.3739 - mae: 0.4828 - val_loss: 0.6422 - val_mae: 0.6520\n",
      "Epoch 54/100\n",
      "6/6 [==============================] - 0s 5ms/step - loss: 0.3616 - mae: 0.4738 - val_loss: 0.5724 - val_mae: 0.6067\n",
      "Epoch 55/100\n",
      "6/6 [==============================] - 0s 5ms/step - loss: 0.3911 - mae: 0.4976 - val_loss: 0.6318 - val_mae: 0.6557\n",
      "Epoch 56/100\n",
      "6/6 [==============================] - 0s 6ms/step - loss: 0.3749 - mae: 0.4796 - val_loss: 0.5906 - val_mae: 0.6212\n",
      "Epoch 57/100\n",
      "6/6 [==============================] - 0s 6ms/step - loss: 0.3745 - mae: 0.4766 - val_loss: 0.5997 - val_mae: 0.6171\n",
      "Epoch 58/100\n",
      "6/6 [==============================] - 0s 5ms/step - loss: 0.3710 - mae: 0.4762 - val_loss: 0.5951 - val_mae: 0.6186\n",
      "Epoch 59/100\n",
      "6/6 [==============================] - 0s 6ms/step - loss: 0.3681 - mae: 0.4639 - val_loss: 0.5743 - val_mae: 0.6116\n",
      "Epoch 60/100\n",
      "6/6 [==============================] - 0s 5ms/step - loss: 0.3400 - mae: 0.4529 - val_loss: 0.5571 - val_mae: 0.6051\n",
      "Epoch 61/100\n",
      "6/6 [==============================] - 0s 7ms/step - loss: 0.3485 - mae: 0.4615 - val_loss: 0.6001 - val_mae: 0.6345\n",
      "Epoch 62/100\n",
      "6/6 [==============================] - 0s 5ms/step - loss: 0.3551 - mae: 0.4778 - val_loss: 0.5547 - val_mae: 0.5825\n",
      "Epoch 63/100\n",
      "6/6 [==============================] - 0s 5ms/step - loss: 0.3728 - mae: 0.4659 - val_loss: 0.6030 - val_mae: 0.6385\n",
      "Epoch 64/100\n",
      "6/6 [==============================] - 0s 6ms/step - loss: 0.3538 - mae: 0.4618 - val_loss: 0.6291 - val_mae: 0.6369\n",
      "Epoch 65/100\n",
      "6/6 [==============================] - 0s 6ms/step - loss: 0.3808 - mae: 0.4917 - val_loss: 0.5704 - val_mae: 0.6101\n",
      "Epoch 66/100\n",
      "6/6 [==============================] - 0s 5ms/step - loss: 0.3582 - mae: 0.4783 - val_loss: 0.5921 - val_mae: 0.6167\n",
      "Epoch 67/100\n",
      "6/6 [==============================] - 0s 5ms/step - loss: 0.3619 - mae: 0.4807 - val_loss: 0.5728 - val_mae: 0.6151\n",
      "Epoch 68/100\n",
      "6/6 [==============================] - 0s 6ms/step - loss: 0.3582 - mae: 0.4679 - val_loss: 0.5962 - val_mae: 0.6257\n",
      "Epoch 69/100\n",
      "6/6 [==============================] - 0s 6ms/step - loss: 0.3625 - mae: 0.4652 - val_loss: 0.5729 - val_mae: 0.5954\n",
      "Epoch 70/100\n",
      "6/6 [==============================] - 0s 5ms/step - loss: 0.3876 - mae: 0.4907 - val_loss: 0.5725 - val_mae: 0.6119\n",
      "Epoch 71/100\n",
      "6/6 [==============================] - 0s 7ms/step - loss: 0.3648 - mae: 0.4775 - val_loss: 0.5998 - val_mae: 0.6348\n",
      "Epoch 72/100\n",
      "6/6 [==============================] - 0s 6ms/step - loss: 0.3698 - mae: 0.4801 - val_loss: 0.5557 - val_mae: 0.5977\n",
      "Epoch 73/100\n",
      "6/6 [==============================] - 0s 6ms/step - loss: 0.3453 - mae: 0.4572 - val_loss: 0.5895 - val_mae: 0.6189\n",
      "Epoch 74/100\n",
      "6/6 [==============================] - 0s 6ms/step - loss: 0.3566 - mae: 0.4594 - val_loss: 0.5306 - val_mae: 0.5681\n",
      "Epoch 75/100\n",
      "6/6 [==============================] - 0s 6ms/step - loss: 0.3492 - mae: 0.4629 - val_loss: 0.6297 - val_mae: 0.6556\n",
      "Epoch 76/100\n",
      "6/6 [==============================] - 0s 6ms/step - loss: 0.3425 - mae: 0.4533 - val_loss: 0.5477 - val_mae: 0.5897\n",
      "Epoch 77/100\n",
      "6/6 [==============================] - 0s 6ms/step - loss: 0.3399 - mae: 0.4550 - val_loss: 0.6602 - val_mae: 0.6669\n",
      "Epoch 78/100\n",
      "6/6 [==============================] - 0s 5ms/step - loss: 0.3827 - mae: 0.4782 - val_loss: 0.5350 - val_mae: 0.5974\n",
      "Epoch 79/100\n",
      "6/6 [==============================] - 0s 6ms/step - loss: 0.3941 - mae: 0.4886 - val_loss: 0.5853 - val_mae: 0.6263\n",
      "Epoch 80/100\n",
      "6/6 [==============================] - 0s 5ms/step - loss: 0.3648 - mae: 0.4743 - val_loss: 0.6231 - val_mae: 0.6568\n",
      "Epoch 81/100\n",
      "6/6 [==============================] - 0s 6ms/step - loss: 0.3491 - mae: 0.4747 - val_loss: 0.5268 - val_mae: 0.5849\n",
      "Epoch 82/100\n",
      "6/6 [==============================] - 0s 21ms/step - loss: 0.3318 - mae: 0.4564 - val_loss: 0.6690 - val_mae: 0.6779\n",
      "Epoch 83/100\n",
      "6/6 [==============================] - 0s 5ms/step - loss: 0.3446 - mae: 0.4583 - val_loss: 0.5852 - val_mae: 0.6103\n",
      "Epoch 84/100\n",
      "6/6 [==============================] - 0s 5ms/step - loss: 0.3350 - mae: 0.4484 - val_loss: 0.6539 - val_mae: 0.6480\n",
      "Epoch 85/100\n",
      "6/6 [==============================] - 0s 5ms/step - loss: 0.3507 - mae: 0.4623 - val_loss: 0.5858 - val_mae: 0.6236\n",
      "Epoch 86/100\n",
      "6/6 [==============================] - 0s 5ms/step - loss: 0.3181 - mae: 0.4504 - val_loss: 0.6081 - val_mae: 0.6494\n",
      "Epoch 87/100\n",
      "6/6 [==============================] - 0s 5ms/step - loss: 0.3420 - mae: 0.4655 - val_loss: 0.5684 - val_mae: 0.6097\n",
      "Epoch 88/100\n",
      "6/6 [==============================] - 0s 5ms/step - loss: 0.3201 - mae: 0.4420 - val_loss: 0.6165 - val_mae: 0.6395\n",
      "Epoch 89/100\n",
      "6/6 [==============================] - 0s 5ms/step - loss: 0.3392 - mae: 0.4614 - val_loss: 0.5825 - val_mae: 0.6148\n",
      "Epoch 90/100\n",
      "6/6 [==============================] - 0s 5ms/step - loss: 0.3305 - mae: 0.4502 - val_loss: 0.5834 - val_mae: 0.6154\n",
      "Epoch 91/100\n",
      "6/6 [==============================] - 0s 6ms/step - loss: 0.3381 - mae: 0.4507 - val_loss: 0.5864 - val_mae: 0.6144\n",
      "Epoch 92/100\n",
      "6/6 [==============================] - 0s 5ms/step - loss: 0.3172 - mae: 0.4380 - val_loss: 0.5805 - val_mae: 0.6065\n",
      "Epoch 93/100\n",
      "6/6 [==============================] - 0s 5ms/step - loss: 0.2824 - mae: 0.4163 - val_loss: 0.5878 - val_mae: 0.6156\n",
      "Epoch 94/100\n",
      "6/6 [==============================] - 0s 5ms/step - loss: 0.2882 - mae: 0.4182 - val_loss: 0.5749 - val_mae: 0.6107\n",
      "Epoch 95/100\n",
      "6/6 [==============================] - 0s 6ms/step - loss: 0.3168 - mae: 0.4456 - val_loss: 0.6136 - val_mae: 0.6354\n",
      "Epoch 96/100\n",
      "6/6 [==============================] - 0s 6ms/step - loss: 0.3163 - mae: 0.4360 - val_loss: 0.6379 - val_mae: 0.6425\n",
      "Epoch 97/100\n",
      "6/6 [==============================] - 0s 6ms/step - loss: 0.3223 - mae: 0.4376 - val_loss: 0.6099 - val_mae: 0.6276\n",
      "Epoch 98/100\n",
      "6/6 [==============================] - 0s 5ms/step - loss: 0.2925 - mae: 0.4233 - val_loss: 0.5733 - val_mae: 0.6098\n",
      "Epoch 99/100\n",
      "6/6 [==============================] - 0s 6ms/step - loss: 0.3132 - mae: 0.4377 - val_loss: 0.6197 - val_mae: 0.6369\n",
      "Epoch 100/100\n",
      "6/6 [==============================] - 0s 6ms/step - loss: 0.3153 - mae: 0.4398 - val_loss: 0.5859 - val_mae: 0.6177\n"
     ]
    }
   ],
   "source": [
    "# Train the model, with some of the data reserved for validation\n",
    "history = model.fit(train_d,train_targets, epochs = 100, validation_split = 0.15, batch_size=64)\n"
   ]
  },
  {
   "cell_type": "code",
   "execution_count": 42,
   "metadata": {},
   "outputs": [
    {
     "name": "stdout",
     "output_type": "stream",
     "text": [
      "2/2 [==============================] - 0s 983us/step - loss: 0.6640 - mae: 0.6346\n"
     ]
    },
    {
     "data": {
      "text/plain": [
       "[0.6639515161514282, 0.634619951248169]"
      ]
     },
     "execution_count": 42,
     "metadata": {},
     "output_type": "execute_result"
    }
   ],
   "source": [
    "# Evaluate the model on the test set\n",
    "\n",
    "model.evaluate(test_d, test_targets)\n"
   ]
  },
  {
   "cell_type": "markdown",
   "metadata": {},
   "source": [
    "#### Plot the learning curves"
   ]
  },
  {
   "cell_type": "markdown",
   "metadata": {},
   "source": [
    "# Plot the training and validation loss\n",
    "\n",
    "import matplotlib.pyplot as plt\n",
    "\n",
    "plt.plot(history.history['loss'])\n",
    "plt.plot(history.history['val_loss'])\n",
    "plt.title('Loss vs. epochs')\n",
    "plt.ylabel('Loss')\n",
    "plt.xlabel('Epoch')\n",
    "plt.legend(['Training', 'Validation'], loc='upper right')\n",
    "plt.show()"
   ]
  },
  {
   "cell_type": "markdown",
   "metadata": {},
   "source": [
    "***\n",
    "<a id=\"coding_tutorial_3\"></a>\n",
    "## Introduction to callbacks"
   ]
  },
  {
   "cell_type": "markdown",
   "metadata": {},
   "source": [
    "#### Example training callback"
   ]
  },
  {
   "cell_type": "code",
   "execution_count": 59,
   "metadata": {},
   "outputs": [],
   "source": [
    "# Write a custom callback\n",
    "from tensorflow.keras.callbacks import Callback\n",
    "\n",
    "class TrainingCallback(Callback):\n",
    "    def on_train_begin(self, logs = None):\n",
    "        print(\"start tranining\")\n",
    "     \n",
    "    def on_epoch_begin(self, epoch, logs = None):\n",
    "        print(\"start epoch\", epoch)\n",
    "\n",
    "    def on_batch_begin(self, batch, logs = None):\n",
    "        print(\"start batch\", batch)\n",
    "        \n",
    "    def on_epoch_end(self, epoch, logs = None):\n",
    "        print(\"end epoch\", epoch)\n",
    "    \n",
    "    def on_train_end(self, logs = None):\n",
    "        print(\"end tranining\")\n",
    "\n",
    "class TestCallback(Callback):\n",
    "    def on_test_begin(self, logs = None):\n",
    "        print(\"start test\")\n",
    "     \n",
    "    def on_test_batch_begin(self, batch, logs = None):\n",
    "        print(\"test start batch\", batch)\n",
    "    \n",
    "    def on_test_batch_end(self, batch, logs = None):\n",
    "        print(\"test start batch end\", batch)\n",
    "    \n",
    "    def on_test_end(self, logs = None):\n",
    "        print(\"end test\")\n",
    "        \n",
    "class PredictCallback(Callback):\n",
    "    def on_predict_begin(self, logs = None):\n",
    "        print(\"start predict\")\n",
    "     \n",
    "    def on_predict_batch_begin(self, batch, logs = None):\n",
    "        print(\"predict start batch\", batch)\n",
    "    \n",
    "    def on_predict_batch_end(self, batch, logs = None):\n",
    "        print(\"predict batch end\", batch)\n",
    "    \n",
    "    def on_predict_end(self, logs = None):\n",
    "        print(\"end predict\")\n"
   ]
  },
  {
   "cell_type": "code",
   "execution_count": 46,
   "metadata": {},
   "outputs": [],
   "source": [
    "# Re-build the model\n",
    "model = get_regularised_model(1e-5,0.3)\n"
   ]
  },
  {
   "cell_type": "code",
   "execution_count": 47,
   "metadata": {},
   "outputs": [],
   "source": [
    "# Compile the model\n",
    "\n",
    "model.compile(optimizer = 'adam',loss = 'mse') \n"
   ]
  },
  {
   "cell_type": "markdown",
   "metadata": {},
   "source": [
    "#### Train the model with the callback"
   ]
  },
  {
   "cell_type": "code",
   "execution_count": 48,
   "metadata": {},
   "outputs": [
    {
     "name": "stdout",
     "output_type": "stream",
     "text": [
      "start tranining\n",
      "start epoch 0\n",
      "Epoch 1/3\n",
      "start batch 0\n",
      "1/4 [======>.......................] - ETA: 0s - loss: 0.9256start batch 1\n",
      "start batch 2\n",
      "start batch 3\n",
      "end epoch 0\n",
      "4/4 [==============================] - 0s 3ms/step - loss: 0.9906\n",
      "start epoch 1\n",
      "Epoch 2/3\n",
      "start batch 0\n",
      "1/4 [======>.......................] - ETA: 0s - loss: 0.9035start batch 1\n",
      "start batch 2\n",
      "start batch 3\n",
      "end epoch 1\n",
      "4/4 [==============================] - 0s 2ms/step - loss: 0.9848\n",
      "start epoch 2\n",
      "Epoch 3/3\n",
      "start batch 0\n",
      "1/4 [======>.......................] - ETA: 0s - loss: 0.9431start batch 1\n",
      "start batch 2\n",
      "start batch 3\n",
      "end epoch 2\n",
      "4/4 [==============================] - 0s 3ms/step - loss: 0.9681\n",
      "end tranining\n"
     ]
    }
   ],
   "source": [
    "# Train the model, with some of the data reserved for validation\n",
    "\n",
    "history = model.fit(train_d,train_targets, epochs = 3, batch_size=128, callbacks = [TrainingCallback()])\n"
   ]
  },
  {
   "cell_type": "code",
   "execution_count": 58,
   "metadata": {},
   "outputs": [
    {
     "name": "stdout",
     "output_type": "stream",
     "text": [
      "start test\n",
      "test start batch 0\n",
      "test start batch end 0\n",
      "1/2 [==============>...............] - ETA: 0s - loss: 1.1212test start batch 1\n",
      "test start batch end 1\n",
      "end test\n",
      "2/2 [==============================] - 0s 994us/step - loss: 1.0525\n"
     ]
    },
    {
     "data": {
      "text/plain": [
       "1.0525397062301636"
      ]
     },
     "execution_count": 58,
     "metadata": {},
     "output_type": "execute_result"
    }
   ],
   "source": [
    "# Evaluate the model\n",
    "\n",
    "model.evaluate(test_d, test_targets, callbacks=[TestCallback()])\n"
   ]
  },
  {
   "cell_type": "code",
   "execution_count": 60,
   "metadata": {},
   "outputs": [
    {
     "name": "stdout",
     "output_type": "stream",
     "text": [
      "start predict\n",
      "predict start batch 0\n",
      "predict batch end 0\n",
      "predict start batch 1\n",
      "predict batch end 1\n",
      "end predict\n"
     ]
    },
    {
     "data": {
      "text/plain": [
       "array([[-0.08951448],\n",
       "       [-0.05414473],\n",
       "       [-0.10222101],\n",
       "       [-0.08465722],\n",
       "       [-0.05553292],\n",
       "       [ 0.06440773],\n",
       "       [ 0.0409207 ],\n",
       "       [ 0.0363044 ],\n",
       "       [ 0.02421384],\n",
       "       [-0.01731722],\n",
       "       [ 0.05391924],\n",
       "       [ 0.05030663],\n",
       "       [-0.08379805],\n",
       "       [ 0.03562508],\n",
       "       [ 0.06509379],\n",
       "       [-0.07192512],\n",
       "       [ 0.03481229],\n",
       "       [ 0.02446847],\n",
       "       [-0.0764447 ],\n",
       "       [ 0.07355153],\n",
       "       [ 0.03053441],\n",
       "       [-0.09784274],\n",
       "       [ 0.06173259],\n",
       "       [-0.10311626],\n",
       "       [-0.09321851],\n",
       "       [ 0.04344983],\n",
       "       [-0.05787992],\n",
       "       [ 0.0042717 ],\n",
       "       [-0.08555721],\n",
       "       [ 0.03501097],\n",
       "       [-0.06818543],\n",
       "       [ 0.00950058],\n",
       "       [-0.09511138],\n",
       "       [-0.0843736 ],\n",
       "       [-0.097449  ],\n",
       "       [ 0.00646892],\n",
       "       [-0.09164469],\n",
       "       [-0.0925563 ],\n",
       "       [-0.08754455],\n",
       "       [-0.10291889],\n",
       "       [-0.11025871],\n",
       "       [ 0.01341893],\n",
       "       [-0.06739229],\n",
       "       [ 0.03139372],\n",
       "       [ 0.06018334]], dtype=float32)"
      ]
     },
     "execution_count": 60,
     "metadata": {},
     "output_type": "execute_result"
    }
   ],
   "source": [
    "# Make predictions with the model\n",
    "\n",
    "model.predict(test_d, callbacks=[PredictCallback()])\n"
   ]
  },
  {
   "cell_type": "markdown",
   "metadata": {},
   "source": [
    "***\n",
    "<a id=\"coding_tutorial_4\"></a>\n",
    "## Early stopping / patience"
   ]
  },
  {
   "cell_type": "markdown",
   "metadata": {},
   "source": [
    "#### Re-train the models with early stopping"
   ]
  },
  {
   "cell_type": "code",
   "execution_count": 79,
   "metadata": {},
   "outputs": [
    {
     "name": "stdout",
     "output_type": "stream",
     "text": [
      "Epoch 1/100\n",
      "6/6 [==============================] - 0s 16ms/step - loss: 0.9987 - val_loss: 0.8371\n",
      "Epoch 2/100\n",
      "6/6 [==============================] - 0s 5ms/step - loss: 0.9173 - val_loss: 0.7586\n",
      "Epoch 3/100\n",
      "6/6 [==============================] - 0s 5ms/step - loss: 0.7237 - val_loss: 0.5809\n",
      "Epoch 4/100\n",
      "6/6 [==============================] - 0s 6ms/step - loss: 0.5522 - val_loss: 0.6705\n",
      "Epoch 5/100\n",
      "6/6 [==============================] - 0s 5ms/step - loss: 0.5057 - val_loss: 0.4921\n",
      "Epoch 6/100\n",
      "6/6 [==============================] - 0s 6ms/step - loss: 0.4936 - val_loss: 0.6022\n",
      "Epoch 7/100\n",
      "6/6 [==============================] - 0s 6ms/step - loss: 0.4649 - val_loss: 0.5483\n"
     ]
    }
   ],
   "source": [
    "# Re-train the unregularised model\n",
    "\n",
    "unregularised_model = get_model()\n",
    "unregularised_model.compile(optimizer = 'adam',loss = 'mse')\n",
    "u_h = unregularised_model.fit(train_d,train_targets,epochs = 100, validation_split = 0.15, batch_size = 64,\n",
    "                             callbacks = [tf.keras.callbacks.EarlyStopping(patience=2)])"
   ]
  },
  {
   "cell_type": "code",
   "execution_count": 80,
   "metadata": {},
   "outputs": [
    {
     "name": "stdout",
     "output_type": "stream",
     "text": [
      "2/2 [==============================] - 0s 945us/step - loss: 0.6284\n"
     ]
    },
    {
     "data": {
      "text/plain": [
       "0.628440260887146"
      ]
     },
     "execution_count": 80,
     "metadata": {},
     "output_type": "execute_result"
    }
   ],
   "source": [
    "# Evaluate the model on the test set\n",
    "unregularised_model.evaluate(test_d,test_targets)\n"
   ]
  },
  {
   "cell_type": "code",
   "execution_count": 78,
   "metadata": {},
   "outputs": [
    {
     "name": "stdout",
     "output_type": "stream",
     "text": [
      "Epoch 1/100\n",
      "6/6 [==============================] - 0s 23ms/step - loss: 1.0043 - val_loss: 0.8437\n",
      "Epoch 2/100\n",
      "6/6 [==============================] - 0s 5ms/step - loss: 0.9658 - val_loss: 0.7796\n",
      "Epoch 3/100\n",
      "6/6 [==============================] - 0s 5ms/step - loss: 0.8111 - val_loss: 0.6372\n",
      "Epoch 4/100\n",
      "6/6 [==============================] - 0s 5ms/step - loss: 0.6083 - val_loss: 0.6414\n",
      "Epoch 5/100\n",
      "6/6 [==============================] - 0s 5ms/step - loss: 0.6030 - val_loss: 0.6067\n",
      "Epoch 6/100\n",
      "6/6 [==============================] - 0s 5ms/step - loss: 0.5086 - val_loss: 0.5772\n",
      "Epoch 7/100\n",
      "6/6 [==============================] - 0s 5ms/step - loss: 0.5276 - val_loss: 0.5545\n",
      "Epoch 8/100\n",
      "6/6 [==============================] - 0s 5ms/step - loss: 0.5312 - val_loss: 0.5511\n",
      "Epoch 9/100\n",
      "6/6 [==============================] - 0s 5ms/step - loss: 0.5018 - val_loss: 0.5909\n",
      "Epoch 10/100\n",
      "6/6 [==============================] - 0s 6ms/step - loss: 0.4800 - val_loss: 0.5553\n"
     ]
    }
   ],
   "source": [
    "# Re-train the regularised model\n",
    "regularised_model = get_regularised_model(1e-8,0.2)\n",
    "\n",
    "regularised_model.compile(optimizer = 'adam',loss = 'mse')\n",
    "r_h = regularised_model.fit(train_d,train_targets,epochs = 100, \n",
    "                            validation_split = 0.15, batch_size = 64,\n",
    "                            callbacks = [tf.keras.callbacks.EarlyStopping(patience=2)])"
   ]
  },
  {
   "cell_type": "code",
   "execution_count": 81,
   "metadata": {},
   "outputs": [
    {
     "name": "stdout",
     "output_type": "stream",
     "text": [
      "2/2 [==============================] - 0s 852us/step - loss: 0.5591\n"
     ]
    },
    {
     "data": {
      "text/plain": [
       "0.559116005897522"
      ]
     },
     "execution_count": 81,
     "metadata": {},
     "output_type": "execute_result"
    }
   ],
   "source": [
    "# Evaluate the model on the test set\n",
    "\n",
    "regularised_model.evaluate(test_d,test_targets)\n"
   ]
  },
  {
   "cell_type": "markdown",
   "metadata": {},
   "source": [
    "#### Plot the learning curves"
   ]
  },
  {
   "cell_type": "code",
   "execution_count": 82,
   "metadata": {},
   "outputs": [
    {
     "data": {
      "image/png": "[encoded data removed]",
      "text/plain": [
       "<Figure size 864x360 with 2 Axes>"
      ]
     },
     "metadata": {
      "needs_background": "light"
     },
     "output_type": "display_data"
    }
   ],
   "source": [
    "# Plot the training and validation loss\n",
    "\n",
    "import matplotlib.pyplot as plt\n",
    "\n",
    "fig = plt.figure(figsize=(12, 5))\n",
    "\n",
    "fig.add_subplot(121)\n",
    "\n",
    "plt.plot(u_h.history['loss'])\n",
    "plt.plot(u_h.history['val_loss'])\n",
    "plt.title('Unregularised model: loss vs. epochs')\n",
    "plt.ylabel('Loss')\n",
    "plt.xlabel('Epoch')\n",
    "plt.legend(['Training', 'Validation'], loc='upper right')\n",
    "\n",
    "fig.add_subplot(122)\n",
    "\n",
    "plt.plot(r_h.history['loss'])\n",
    "plt.plot(r_h.history['val_loss'])\n",
    "plt.title('Regularised model: loss vs. epochs')\n",
    "plt.ylabel('Loss')\n",
    "plt.xlabel('Epoch')\n",
    "plt.legend(['Training', 'Validation'], loc='upper right')\n",
    "\n",
    "plt.show()"
   ]
  }
 ],
 "metadata": {
  "kernelspec": {
   "display_name": "Python 3",
   "language": "python",
   "name": "python3"
  },
  "language_info": {
   "codemirror_mode": {
    "name": "ipython",
    "version": 3
   },
   "file_extension": ".py",
   "mimetype": "text/x-python",
   "name": "python",
   "nbconvert_exporter": "python",
   "pygments_lexer": "ipython3",
   "version": "3.7.3"
  }
 },
 "nbformat": 4,
 "nbformat_minor": 4
}
